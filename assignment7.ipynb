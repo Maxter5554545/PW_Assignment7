{
 "cells": [
  {
   "cell_type": "code",
   "execution_count": null,
   "id": "86b90db8-b059-4645-9294-9da66fd0cb1d",
   "metadata": {},
   "outputs": [],
   "source": [
    "# 1. Write a program to accept percentage from the user and display the grade according to the following \n",
    "# criteria: \n",
    "# Marks \n",
    "# Grade \n",
    "# >90 \n",
    "# A \n",
    "# >80 and <=90 \n",
    "# B \n",
    "# >=60 and <=80 \n",
    "# C \n",
    "# below 60 \n",
    "# D \n",
    "\n",
    "# Answer\n",
    "perc = int(input())\n",
    "if perc > 90:\n",
    "    print(\"Grade : A\")\n",
    "elif perc > 80 and perc <= 90:\n",
    "    print(\"Grade : B\")\n",
    "elif perc >= 60 and perc <= 80:\n",
    "    print(\"Grade : C\")\n",
    "else:\n",
    "    print(\"Grade : D\")\n"
   ]
  },
  {
   "cell_type": "code",
   "execution_count": null,
   "id": "e9e9cbd8-a584-4f49-a858-ae294a50a430",
   "metadata": {},
   "outputs": [],
   "source": [
    "# 2. Write a program to accept the cost price of a bike and display the road tax to be paid according to the \n",
    "# following criteria: \n",
    "\n",
    "def rate(cost_price):\n",
    "    if cost_price > 10000:\n",
    "        return cost_price * 0.15\n",
    "    elif cost_price > 50000 and cost_price <= 10000:\n",
    "        return cost_price * 0.1\n",
    "    else:\n",
    "        return cost_price * 0.05\n",
    "    \n",
    "cost = float(input())\n",
    "\n",
    "curr = rate(cost)\n",
    "\n",
    "print(f\"The road tax for the bike with the cost price: {cost:.2f} is Rs. {curr:.2f}\")"
   ]
  },
  {
   "cell_type": "code",
   "execution_count": null,
   "id": "c19af026-dbae-4bcd-aff6-92f65d72256d",
   "metadata": {},
   "outputs": [],
   "source": [
    "# 3. Accept any city from the user and display monuments of that city. \n",
    "city = input(\"Please enter the name of the city: \")\n",
    "\n",
    "if city == \"Delhi\".lower():\n",
    "    print(f\"{city.capitalize()} : Redfort\")\n",
    "    \n",
    "elif city == \"Agra\".lower():\n",
    "    print(f\"{city.capitalize()} : Taj Mahal\")\n",
    "    \n",
    "elif city == \"Jaiput\".lower():\n",
    "    print(f\"{city.capitalize()} : Jal Mahal\")\n",
    "    \n",
    "else:\n",
    "    print(f\" We cannot find the monument of the {city} city you mentioned. \")"
   ]
  },
  {
   "cell_type": "code",
   "execution_count": null,
   "id": "006b4e02-fe6a-4410-8883-cfe1f1ecf098",
   "metadata": {},
   "outputs": [],
   "source": [
    "# 4. Check how many times a given number can be divided by 3 before it is less than or equal to 10. \n",
    "\n",
    "num = float(input())\n",
    "count = 0\n",
    "while num > 10:\n",
    "    num /= 3\n",
    "    count += 1\n",
    "print(count)"
   ]
  },
  {
   "cell_type": "code",
   "execution_count": null,
   "id": "fd70b3e2-f50f-445d-9e35-bd16f3a4d1c5",
   "metadata": {},
   "outputs": [],
   "source": [
    "# 5. Why and When to Use while Loop in Python give a detailed description with example \n",
    "\n",
    "print(\"We use while loop for iterating a variable on the required condition, It is generally used in control flow it works as if we set any variable & iterating it through while loop, the while loop iterates the value one by one & continues until the condition becomes true.\")\n",
    "\n",
    "#example \n",
    "\n",
    "i = 1\n",
    "while i < 10:\n",
    "    j = 0\n",
    "    while j < i:\n",
    "        j += 1\n",
    "        print(j, end=\"\")\n",
    "    print(\" \")\n",
    "    i += 1"
   ]
  },
  {
   "cell_type": "code",
   "execution_count": null,
   "id": "9d5f885a-d2bc-435d-9d3c-3f56ec3b69b2",
   "metadata": {},
   "outputs": [],
   "source": [
    "# 6. Use nested while loop to print 3 different pattern.\n",
    "\n",
    "#1st pattern:\n",
    "\n",
    "i = 1\n",
    "while i < 12:\n",
    "    j = 1\n",
    "    while j < i:\n",
    "        print(j, end=\" \")\n",
    "        j = j + 1\n",
    "    print(\"\")\n",
    "    i = i + 1\n",
    "\n",
    "#2nd pattern: \n",
    "\n",
    "i = 12\n",
    "while i >= 1:\n",
    "    j = 1\n",
    "    while j <= i:\n",
    "        print(j, end= \" \")\n",
    "        j += 1 \n",
    "    print(\"\")\n",
    "    i -= 1\n",
    "\n",
    "#3rd pattern: \n",
    "\n",
    "i = 1\n",
    "while i < 12:\n",
    "    j = 1\n",
    "    while j < i:\n",
    "        print(\"*\", end=\" \")\n",
    "        j = j + 1\n",
    "    print(\"\")\n",
    "    i = i + 1"
   ]
  },
  {
   "cell_type": "code",
   "execution_count": null,
   "id": "64275e02-ed2f-4782-bad0-d8a87f59aba9",
   "metadata": {},
   "outputs": [],
   "source": [
    "# 7. Reverse a while loop to display numbers from 10 to 1. \n",
    "i = 11\n",
    "while i >= 2:\n",
    "    i -= 1\n",
    "    print(i)"
   ]
  },
  {
   "cell_type": "code",
   "execution_count": null,
   "id": "ef063c2c-fe9b-4b65-a3fe-1931d785ff70",
   "metadata": {},
   "outputs": [],
   "source": [
    "# 8. Reverse a while loop to display numbers from 10 to 1. \n",
    "i = 11\n",
    "while i >= 2:\n",
    "    i -= 1\n",
    "    print(i)"
   ]
  }
 ],
 "metadata": {
  "kernelspec": {
   "display_name": "Python 3 (ipykernel)",
   "language": "python",
   "name": "python3"
  },
  "language_info": {
   "codemirror_mode": {
    "name": "ipython",
    "version": 3
   },
   "file_extension": ".py",
   "mimetype": "text/x-python",
   "name": "python",
   "nbconvert_exporter": "python",
   "pygments_lexer": "ipython3",
   "version": "3.10.8"
  }
 },
 "nbformat": 4,
 "nbformat_minor": 5
}
